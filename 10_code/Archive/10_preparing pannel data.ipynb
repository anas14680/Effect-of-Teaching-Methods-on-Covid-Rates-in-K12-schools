{
 "cells": [
  {
   "cell_type": "code",
   "execution_count": 2,
   "metadata": {},
   "outputs": [],
   "source": [
    "import numpy as np\n",
    "import pandas as pd"
   ]
  },
  {
   "cell_type": "code",
   "execution_count": 3,
   "metadata": {},
   "outputs": [],
   "source": [
    "# Read in covid data for counties\n",
    "county_covid = pd.read_csv(\n",
    "    \"https://raw.githubusercontent.com/nytimes/covid-19-data/master/us-counties.csv\"\n",
    ")\n"
   ]
  },
  {
   "cell_type": "code",
   "execution_count": 5,
   "metadata": {},
   "outputs": [],
   "source": [
    "# convert date to datetime format\n",
    "county_covid['date'] = pd.to_datetime(county_covid['date'])\n"
   ]
  },
  {
   "cell_type": "code",
   "execution_count": 6,
   "metadata": {},
   "outputs": [],
   "source": [
    "# Get New cases on each day.\n",
    "# the cases currently available are cummulative cases\n",
    "county_covid = county_covid.sort_values(by=[\"county\", \"date\"])\n",
    "county_covid[\"New_Cases\"] = county_covid.groupby([\"state\", \"county\"])[\"cases\"].diff()\n",
    "county_covid.loc[county_covid[\"New_Cases\"].isna(), \"New_Cases\"] = county_covid[\"cases\"]"
   ]
  },
  {
   "cell_type": "code",
   "execution_count": 8,
   "metadata": {},
   "outputs": [],
   "source": [
    "# We create terms in the data\n",
    "# these terms are based on the following cut offs\n",
    "# Fall - August to December (inclusive) \n",
    "# Spring - January to May (inclusive) \n",
    "# we have school data for 2 academic years\n",
    "# hence we have four terms and we create data for \n",
    "# all these terms here\n",
    "county_covid[\"Term\"] = \"Find Out\"\n",
    "\n",
    "# academic years Fall 2020-2021\n",
    "county_covid.loc[\n",
    "    (county_covid[\"date\"] >= pd.to_datetime(\"2020-08-01\"))\n",
    "    & (county_covid[\"date\"] <= pd.to_datetime(\"2020-12-31\")),\n",
    "    \"Term\",\n",
    "] = \"Fall 2020-2021\"\n",
    "\n",
    "# academic years Spring 2020-2021\n",
    "county_covid.loc[\n",
    "    (county_covid[\"date\"] >= pd.to_datetime(\"2021-01-01\"))\n",
    "    & (county_covid[\"date\"] <= pd.to_datetime(\"2021-05-31\")),\n",
    "    \"Term\",\n",
    "] = \"Spring 2020-2021\"\n",
    "\n",
    "# academic years Fall 2021-2022\n",
    "county_covid.loc[\n",
    "    (county_covid[\"date\"] >= pd.to_datetime(\"2021-08-01\"))\n",
    "    & (county_covid[\"date\"] <= pd.to_datetime(\"2021-12-31\")),\n",
    "    \"Term\",\n",
    "] = \"Fall 2021-2022\"\n",
    "\n",
    "\n",
    "# academic years Spring 2021-2022\n",
    "county_covid.loc[\n",
    "    (county_covid[\"date\"] >= pd.to_datetime(\"2022-01-01\")),\n",
    "    \"Term\",\n",
    "] = \"Spring 2021-2022\"\n",
    "\n",
    "\n",
    "# remove data for all other dates that we do not need\n",
    "county_covid = county_covid.loc[county_covid[\"Term\"] != \"Find Out\"].copy()\n"
   ]
  },
  {
   "cell_type": "code",
   "execution_count": 9,
   "metadata": {},
   "outputs": [],
   "source": [
    "# Now we aggregate data by county and term\n",
    "# This gives us our data in form of a Panel data. \n",
    "county_covid_agg = county_covid.groupby(\n",
    "    [\"state\", \"county\", \"fips\", \"Term\"], as_index=False\n",
    ")[\"New_Cases\"].sum()\n"
   ]
  },
  {
   "cell_type": "code",
   "execution_count": 11,
   "metadata": {},
   "outputs": [],
   "source": [
    "# convert fips code to integer for better merge\n",
    "county_covid_agg[\"fips\"] = county_covid_agg[\"fips\"].astype(\"int\")\n"
   ]
  },
  {
   "cell_type": "code",
   "execution_count": 12,
   "metadata": {},
   "outputs": [],
   "source": [
    "# Load the population data\n",
    "\n",
    "county_pop = pd.read_excel(\n",
    "    \"/Users/mohammadanas/Desktop/Nicks Project/New project/County Population Data.xlsx\"\n",
    ")\n"
   ]
  },
  {
   "cell_type": "code",
   "execution_count": 13,
   "metadata": {},
   "outputs": [],
   "source": [
    "# filter out only FIPS and Population data\n",
    "county_pop = county_pop[['FIPS', 'TOT_POP']].copy()"
   ]
  },
  {
   "cell_type": "code",
   "execution_count": 14,
   "metadata": {},
   "outputs": [],
   "source": [
    "# Rename FIPS to make merge easier\n",
    "county_pop.rename(columns={'FIPS':'fips'}, inplace=True)"
   ]
  },
  {
   "cell_type": "code",
   "execution_count": 15,
   "metadata": {},
   "outputs": [],
   "source": [
    "# merge our county covid data with population data\n",
    "county_covid_pop = pd.merge(\n",
    "    county_covid_agg, county_pop, on=\"fips\", how=\"left\", indicator=True\n",
    ")\n"
   ]
  },
  {
   "cell_type": "code",
   "execution_count": 16,
   "metadata": {},
   "outputs": [],
   "source": [
    "# For some counties we had not information in one of the datasets\n",
    "# these were US territories and excluded from the analysis\n",
    "county_covid_pop = county_covid_pop.loc[county_covid_pop['_merge'] == 'both']"
   ]
  },
  {
   "cell_type": "code",
   "execution_count": 29,
   "metadata": {},
   "outputs": [],
   "source": [
    "county_covid_pop.to_csv(\n",
    "    \"/Users/mohammadanas/Desktop/Nicks Project/New project/county_pop_covid_panel.csv\"\n",
    ")\n"
   ]
  }
 ],
 "metadata": {
  "interpreter": {
   "hash": "b380258cf79b42527fed6311333d79c1289944b72972a459157fc33b01639dbd"
  },
  "kernelspec": {
   "display_name": "Python 3.9.6 ('base')",
   "language": "python",
   "name": "python3"
  },
  "language_info": {
   "codemirror_mode": {
    "name": "ipython",
    "version": 3
   },
   "file_extension": ".py",
   "mimetype": "text/x-python",
   "name": "python",
   "nbconvert_exporter": "python",
   "pygments_lexer": "ipython3",
   "version": "3.9.6"
  },
  "orig_nbformat": 4
 },
 "nbformat": 4,
 "nbformat_minor": 2
}
