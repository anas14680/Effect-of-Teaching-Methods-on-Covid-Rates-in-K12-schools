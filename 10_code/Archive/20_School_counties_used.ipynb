{
 "cells": [
  {
   "cell_type": "code",
   "execution_count": 1,
   "metadata": {},
   "outputs": [],
   "source": [
    "from linearmodels import PanelOLS\n",
    "import pandas as pd\n",
    "import numpy as np\n",
    "\n",
    "import warnings\n",
    "warnings.simplefilter(\"ignore\")"
   ]
  },
  {
   "cell_type": "code",
   "execution_count": 2,
   "metadata": {},
   "outputs": [],
   "source": [
    "# We load school data for all four terms \n",
    "\n",
    "Fall_2020_2021 = pd.read_excel(\n",
    "    \"/Users/mohammadanas/Desktop/Nicks Project/New project/covid-data Fall 2020- 2021.xlsx\"\n",
    ")\n",
    "Spring_2020_2021 = pd.read_excel(\n",
    "    \"/Users/mohammadanas/Desktop/Nicks Project/New project/covid-data spring 2020-2021.xlsx\"\n",
    ")\n",
    "Fall_2021_2022 = pd.read_excel(\n",
    "    \"/Users/mohammadanas/Desktop/Nicks Project/New project/covid-data Fall 2021 - 2022.xlsx\"\n",
    ")\n",
    "Spring_2021_2022 = pd.read_excel(\n",
    "    \"/Users/mohammadanas/Desktop/Nicks Project/New project/covid-data Spring 2021 - 2022.xlsx\"\n",
    ")\n"
   ]
  },
  {
   "cell_type": "code",
   "execution_count": 5,
   "metadata": {},
   "outputs": [],
   "source": [
    "# read in the county to city mapping file \n",
    "# we use this file to map counties onto city\n",
    "city_county = pd.read_excel(\n",
    "    \"/Users/mohammadanas/Desktop/Nicks Project/New project/City to county mapping.xlsx\"\n",
    ")\n",
    "\n",
    "# select only relevant columns from mapping files\n",
    "city_county = city_county[[\"city\", \"county_fips\"]].copy()"
   ]
  },
  {
   "cell_type": "code",
   "execution_count": 6,
   "metadata": {},
   "outputs": [],
   "source": [
    "# rename physical columns for ease of analysis\n",
    "Fall_2020_2021.rename(columns={\"PhysicalCity\": \"city\"}, inplace=True)\n",
    "Spring_2020_2021.rename(columns={\"PhysicalCity\": \"city\"}, inplace=True)\n",
    "Fall_2021_2022.rename(columns={\"PhysicalCity\": \"city\"}, inplace=True)\n",
    "Spring_2021_2022.rename(columns={\"PhysicalCity\": \"city\"}, inplace=True)\n",
    "Fall_2021_2022.rename(columns={\"Term \": \"Term\"}, inplace=True)\n"
   ]
  },
  {
   "cell_type": "code",
   "execution_count": 7,
   "metadata": {},
   "outputs": [],
   "source": [
    "# merge counties and fips codes onto the normal data\n",
    "Fall_2020_2021 = pd.merge(Fall_2020_2021, city_county, on=\"city\", how=\"left\")\n",
    "Spring_2020_2021 = pd.merge(Spring_2020_2021, city_county, on=\"city\", how=\"left\")\n",
    "Fall_2021_2022 = pd.merge(Fall_2021_2022, city_county, on=\"city\", how=\"left\")\n",
    "Spring_2021_2022 = pd.merge(Spring_2021_2022, city_county, on=\"city\", how=\"left\")\n"
   ]
  },
  {
   "cell_type": "code",
   "execution_count": 7,
   "metadata": {},
   "outputs": [],
   "source": [
    "# drop unmatched couties \n",
    "datasets = [Fall_2020_2021, Fall_2021_2022, Spring_2020_2021, Spring_2021_2022]\n",
    "for i in datasets:\n",
    "    i.dropna(subset=[\"county_fips\"], inplace=True)\n",
    "    i[\"county_fips\"] = i[\"county_fips\"].astype(\"int\")\n"
   ]
  },
  {
   "cell_type": "code",
   "execution_count": 8,
   "metadata": {},
   "outputs": [],
   "source": [
    "# select only relevant columns from the school data\n",
    "Fall_2020_2021 = Fall_2020_2021[\n",
    "    [\"Term\", \"SchoolYear\", \"county_fips\", \"TeachingMethod\", \"StudentMaskPolicy\"]\n",
    "]\n",
    "Fall_2021_2022 = Fall_2021_2022[\n",
    "    [\"Term\", \"SchoolYear\", \"county_fips\", \"TeachingMethod\", \"StudentMaskPolicy\"]\n",
    "]\n",
    "Spring_2020_2021 = Spring_2020_2021[\n",
    "    [\"Term\", \"SchoolYear\", \"county_fips\", \"TeachingMethod\", \"StudentMaskPolicy\"]\n",
    "]\n",
    "Spring_2021_2022 = Spring_2021_2022[\n",
    "    [\"Term\", \"SchoolYear\", \"county_fips\", \"TeachingMethod\", \"StudentMaskPolicy\"]\n",
    "]\n"
   ]
  },
  {
   "cell_type": "code",
   "execution_count": 9,
   "metadata": {},
   "outputs": [],
   "source": [
    "# Now we combine all the school data\n",
    "complete_schools_data = pd.concat(\n",
    "    [Fall_2020_2021, Fall_2021_2022, Spring_2020_2021, Spring_2021_2022]\n",
    ")\n"
   ]
  },
  {
   "cell_type": "code",
   "execution_count": 10,
   "metadata": {},
   "outputs": [],
   "source": [
    "complete_schools_data.to_csv(\n",
    "    \"/Users/mohammadanas/Desktop/Nicks Project/New project/complete_school_data.csv\"\n",
    ")\n"
   ]
  },
  {
   "cell_type": "code",
   "execution_count": 11,
   "metadata": {},
   "outputs": [],
   "source": [
    "# alot of information on teaching method is missing and \n",
    "# unknown information. # Therefore, we choose only counties \n",
    "# for which we have more than 80% data\n",
    "complete_schools_data[\"useit\"] = np.where(\n",
    "    complete_schools_data[\"TeachingMethod\"].isin([\"Unknown\", \"Other\", \"Pending\"]), 0, 1\n",
    ")\n",
    "\n",
    "\n",
    "complete_schools_data[\"useit_ind\"] = complete_schools_data.groupby(\"county_fips\")[\n",
    "    \"useit\"\n",
    "].transform(\"mean\")\n",
    "\n",
    "complete_schools_data2 = complete_schools_data[\n",
    "    complete_schools_data[\"useit_ind\"] >= 0.80\n",
    "]\n",
    "\n",
    "counties_to_use = list(np.unique(complete_schools_data2[\"county_fips\"]))\n",
    "# in the end we are left with 545 counties\n"
   ]
  },
  {
   "cell_type": "code",
   "execution_count": 12,
   "metadata": {},
   "outputs": [],
   "source": [
    "useable_counties_school_data = complete_schools_data.loc[\n",
    "    complete_schools_data[\"county_fips\"].isin(counties_to_use)\n",
    "]\n"
   ]
  },
  {
   "cell_type": "code",
   "execution_count": 14,
   "metadata": {},
   "outputs": [],
   "source": [
    "useable_counties_school_data.to_csv(\n",
    "    \"/Users/mohammadanas/Desktop/Nicks Project/New project/useable_counties_school_data.csv\"\n",
    ")\n"
   ]
  }
 ],
 "metadata": {
  "interpreter": {
   "hash": "b380258cf79b42527fed6311333d79c1289944b72972a459157fc33b01639dbd"
  },
  "kernelspec": {
   "display_name": "Python 3.9.6 ('base')",
   "language": "python",
   "name": "python3"
  },
  "language_info": {
   "codemirror_mode": {
    "name": "ipython",
    "version": 3
   },
   "file_extension": ".py",
   "mimetype": "text/x-python",
   "name": "python",
   "nbconvert_exporter": "python",
   "pygments_lexer": "ipython3",
   "version": "3.9.6"
  },
  "orig_nbformat": 4
 },
 "nbformat": 4,
 "nbformat_minor": 2
}
