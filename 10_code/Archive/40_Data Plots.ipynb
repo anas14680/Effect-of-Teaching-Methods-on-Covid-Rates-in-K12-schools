{
 "cells": [
  {
   "cell_type": "code",
   "execution_count": 1,
   "metadata": {},
   "outputs": [],
   "source": [
    "import numpy as np\n",
    "import pandas as pd\n",
    "import matplotlib.pyplot as plt"
   ]
  },
  {
   "cell_type": "code",
   "execution_count": 2,
   "metadata": {},
   "outputs": [],
   "source": [
    "# Read in covid data for counties\n",
    "useable_counties_school_data = pd.read_csv(\n",
    "    \"/Users/mohammadanas/Desktop/Nicks Project/New project/useable_counties_school_data.csv\"\n",
    ")\n",
    "# Load panel data\n",
    "covid_data = pd.read_csv(\n",
    "    \"/Users/mohammadanas/Desktop/Nicks Project/New project/county_pop_covid_panel.csv\"\n",
    ")"
   ]
  },
  {
   "cell_type": "code",
   "execution_count": 3,
   "metadata": {},
   "outputs": [],
   "source": [
    "# List all the data fips counties \n",
    "counties_to_use = list(np.unique(useable_counties_school_data[\"county_fips\"]))\n",
    "# get only relevant counties from panel data\n",
    "covid_data = covid_data.loc[covid_data[\"fips\"].isin(counties_to_use)].copy()\n",
    "# get covid rate\n",
    "covid_data[\"Covid_Rate\"] = covid_data[\"New_Cases\"] / covid_data[\"TOT_POP\"]"
   ]
  },
  {
   "cell_type": "code",
   "execution_count": 4,
   "metadata": {},
   "outputs": [
    {
     "data": {
      "text/plain": [
       "Text(0, 0.5, 'Positivity Rate')"
      ]
     },
     "execution_count": 4,
     "metadata": {},
     "output_type": "execute_result"
    },
    {
     "data": {
      "image/png": "[encoded data removed]",
      "text/plain": [
       "<Figure size 504x288 with 1 Axes>"
      ]
     },
     "metadata": {
      "needs_background": "light"
     },
     "output_type": "display_data"
    }
   ],
   "source": [
    "# plot positivity rate for county\n",
    "plotting_data = covid_data.groupby('fips', as_index=False)['Covid_Rate'].mean()\n",
    "cplot_data = plotting_data.sort_values(by=\"Covid_Rate\").iloc[[0, 60, 120, 180, 240],:]\n",
    "counties = ['Davison', 'Oscoda', 'Warren', 'Chesapeake', 'Clayton']\n",
    "plt.figure(figsize=(7,4))\n",
    "plt.bar(counties, height=cplot_data['Covid_Rate'])\n",
    "plt.xticks(fontsize=14)\n",
    "plt.ylabel('Positivity Rate', fontsize=16)"
   ]
  },
  {
   "cell_type": "code",
   "execution_count": 7,
   "metadata": {},
   "outputs": [],
   "source": [
    "plotting_data.to_excel(\"/Users/mohammadanas/Desktop/Nicks Project/New project/county_plotting_data.xlsx\")"
   ]
  },
  {
   "cell_type": "code",
   "execution_count": 8,
   "metadata": {},
   "outputs": [],
   "source": [
    "def weighted_avg(df):\n",
    "    wa = df['New_Cases'].sum()/df['TOT_POP'].sum()\n",
    "    return wa"
   ]
  },
  {
   "cell_type": "code",
   "execution_count": 9,
   "metadata": {},
   "outputs": [],
   "source": [
    "time_data = covid_data.groupby(['Term'], as_index=False).apply(weighted_avg)"
   ]
  },
  {
   "cell_type": "code",
   "execution_count": 10,
   "metadata": {},
   "outputs": [],
   "source": [
    "time_data.to_excel(\"/Users/mohammadanas/Desktop/Nicks Project/New project/time_plotting_data.xlsx\")"
   ]
  },
  {
   "cell_type": "code",
   "execution_count": 57,
   "metadata": {},
   "outputs": [
    {
     "data": {
      "text/plain": [
       "Text(0, 0.5, 'Postivity Rates')"
      ]
     },
     "execution_count": 57,
     "metadata": {},
     "output_type": "execute_result"
    },
    {
     "data": {
      "image/png": "[encoded data removed]",
      "text/plain": [
       "<Figure size 576x288 with 1 Axes>"
      ]
     },
     "metadata": {
      "needs_background": "light"
     },
     "output_type": "display_data"
    }
   ],
   "source": [
    "plt.figure(figsize=(8,4))\n",
    "Terms=['Fall\\n2020-2021', 'Fall\\n2021-2022', 'Spring\\n2020-2021', 'Spring\\n2021-2022']\n",
    "plt.bar(Terms, height=time_data.iloc[:,1])\n",
    "plt.xticks(fontsize=14)\n",
    "plt.ylabel(\"Postivity Rates\", fontsize=16)"
   ]
  },
  {
   "cell_type": "code",
   "execution_count": null,
   "metadata": {},
   "outputs": [],
   "source": []
  }
 ],
 "metadata": {
  "interpreter": {
   "hash": "b380258cf79b42527fed6311333d79c1289944b72972a459157fc33b01639dbd"
  },
  "kernelspec": {
   "display_name": "Python 3.9.6 ('base')",
   "language": "python",
   "name": "python3"
  },
  "language_info": {
   "codemirror_mode": {
    "name": "ipython",
    "version": 3
   },
   "file_extension": ".py",
   "mimetype": "text/x-python",
   "name": "python",
   "nbconvert_exporter": "python",
   "pygments_lexer": "ipython3",
   "version": "3.9.6"
  },
  "orig_nbformat": 4
 },
 "nbformat": 4,
 "nbformat_minor": 2
}
